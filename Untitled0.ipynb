{
  "nbformat": 4,
  "nbformat_minor": 0,
  "metadata": {
    "colab": {
      "provenance": [],
      "authorship_tag": "ABX9TyOr8jjWrJfAHQPbIYDxbilf",
      "include_colab_link": true
    },
    "kernelspec": {
      "name": "python3",
      "display_name": "Python 3"
    },
    "language_info": {
      "name": "python"
    }
  },
  "cells": [
    {
      "cell_type": "markdown",
      "metadata": {
        "id": "view-in-github",
        "colab_type": "text"
      },
      "source": [
        "<a href=\"https://colab.research.google.com/github/vtheertha/PYTHON/blob/main/Untitled0.ipynb\" target=\"_parent\"><img src=\"https://colab.research.google.com/assets/colab-badge.svg\" alt=\"Open In Colab\"/></a>"
      ]
    },
    {
      "cell_type": "markdown",
      "source": [
        "**PROGRAMS ON SELECTION AND ITERATION**"
      ],
      "metadata": {
        "id": "8-XD-GgzOBET"
      }
    },
    {
      "cell_type": "markdown",
      "source": [
        "1.Get an integer input from a user. If number is odd, then find the factorial of a number and find the number of digits in the factorial of the number. If the number is even, then check the given number is palindrome or not."
      ],
      "metadata": {
        "id": "Lr4A7cbtTDV6"
      }
    },
    {
      "cell_type": "code",
      "source": [
        "num=int(input(\"Enter an integer:\"))\n",
        "if num%2!=0:\n",
        "    fact=1\n",
        "    for i in range(2,num+1):\n",
        "        fact=fact*i\n",
        "    print(\"The factorial is\",fact)\n",
        "    count=0\n",
        "    while fact!=0:\n",
        "        fact//=10\n",
        "        count=count+1\n",
        "    print(\"The number of digits is\",count)\n",
        "\n",
        "if num%2==0:\n",
        "    temp=num\n",
        "    rev=0\n",
        "    while temp!=0:\n",
        "        digits=temp%10\n",
        "        rev=rev*10+digits\n",
        "        temp//=10\n",
        "    if rev==num:\n",
        "        print(\"The number is palindrome.\")\n",
        "    else:\n",
        "        print(\"The number is not palindrome.\")"
      ],
      "metadata": {
        "id": "2qVTmd0CPAtR",
        "colab": {
          "base_uri": "https://localhost:8080/"
        },
        "outputId": "4801f225-ce16-46ce-97ed-566d75810b63"
      },
      "execution_count": 1,
      "outputs": [
        {
          "output_type": "stream",
          "name": "stdout",
          "text": [
            "Enter an integer:5\n",
            "The factorial is 120\n",
            "The number of digits is 3\n"
          ]
        }
      ]
    },
    {
      "cell_type": "markdown",
      "source": [
        "**STRING AND ITS OPERATIONS**"
      ],
      "metadata": {
        "id": "sdNtuN_sPurf"
      }
    },
    {
      "cell_type": "markdown",
      "source": [
        "2.Given two strings, PRINT(YES or NO) whether the second string can be obtained from the first by deletion of none, one or more characters."
      ],
      "metadata": {
        "id": "7v755f31Tcgu"
      }
    },
    {
      "cell_type": "code",
      "source": [
        "str1=\"Welcome to Python Programming Class\"\n",
        "str2=\"Programming\"\n",
        "count=0\n",
        "for i in range (0,len(str2)):\n",
        "  if str2[i] in str1:\n",
        "    count+=1\n",
        "if count>=len(str2):\n",
        "  print(\"YES\")\n",
        "else:\n",
        "  print(\"NO\")"
      ],
      "metadata": {
        "id": "yrNfCECuQnKj",
        "colab": {
          "base_uri": "https://localhost:8080/"
        },
        "outputId": "e7a9e0a2-9093-42eb-a701-7205ef59e129"
      },
      "execution_count": 2,
      "outputs": [
        {
          "output_type": "stream",
          "name": "stdout",
          "text": [
            "YES\n"
          ]
        }
      ]
    },
    {
      "cell_type": "markdown",
      "source": [
        "**LIST AND ITS OPERATIONS**"
      ],
      "metadata": {
        "id": "0eS8HSv-SYWM"
      }
    },
    {
      "cell_type": "markdown",
      "source": [
        "3 A. Program for positive and negative indexing."
      ],
      "metadata": {
        "id": "e4WLktC-Ti6x"
      }
    },
    {
      "cell_type": "code",
      "source": [
        "myList=[1,2,3,4,5,6,7,8,9]\n",
        "\n",
        "#postive indexing\n",
        "print(myList[0:8])\n",
        "print(myList[::2])\n",
        "print(myList[2:7:2])\n",
        "print(myList[::])\n",
        "\n",
        "#negative indexing\n",
        "print(myList[-1::])\n",
        "print(myList[-4:-1])\n",
        "print(myList[-6::-1])"
      ],
      "metadata": {
        "id": "gI6K0Z6fThy8",
        "colab": {
          "base_uri": "https://localhost:8080/"
        },
        "outputId": "1abd9e94-3968-4dc1-d69c-654b6fed1359"
      },
      "execution_count": 3,
      "outputs": [
        {
          "output_type": "stream",
          "name": "stdout",
          "text": [
            "[1, 2, 3, 4, 5, 6, 7, 8]\n",
            "[1, 3, 5, 7, 9]\n",
            "[3, 5, 7]\n",
            "[1, 2, 3, 4, 5, 6, 7, 8, 9]\n",
            "[9]\n",
            "[6, 7, 8]\n",
            "[4, 3, 2, 1]\n"
          ]
        }
      ]
    },
    {
      "cell_type": "markdown",
      "source": [
        "3 B.Program to check if the given list is in ascending order or not."
      ],
      "metadata": {
        "id": "IH9qEtLtVCuO"
      }
    },
    {
      "cell_type": "code",
      "source": [
        "def listsorted(lst):\n",
        "  for i in range(1,len(lst)):\n",
        "    if lst[i]<lst[i-1]:\n",
        "      return False\n",
        "  return True\n",
        "\n",
        "lst=[1,4,5,6,8,9]\n",
        "res=listsorted(lst)\n",
        "if res==True:\n",
        "  print(\"The list is sorted.\")\n",
        "else:\n",
        "  print(\"The list is not sorted.\")"
      ],
      "metadata": {
        "id": "yngScwUjVX9J",
        "colab": {
          "base_uri": "https://localhost:8080/"
        },
        "outputId": "c0d1172f-7ae0-4b5f-fb58-7c70eb479ee0"
      },
      "execution_count": 8,
      "outputs": [
        {
          "output_type": "stream",
          "name": "stdout",
          "text": [
            "The list is sorted.\n"
          ]
        }
      ]
    },
    {
      "cell_type": "markdown",
      "source": [
        "**TUPLES AND ITS OPERATIONS**"
      ],
      "metadata": {
        "id": "RDRw_YGLW2A8"
      }
    },
    {
      "cell_type": "markdown",
      "source": [
        "4 A. Python program to convert a tuple to a string."
      ],
      "metadata": {
        "id": "9F9DZDXjW-gL"
      }
    },
    {
      "cell_type": "code",
      "source": [
        "tup=('p','y','t','h','o','n')\n",
        "str1=\"\"\n",
        "for i in tup:\n",
        "  str1=str1+i\n",
        "print(\"The string is:\",str1)"
      ],
      "metadata": {
        "id": "fjrUIlPGXFOH",
        "colab": {
          "base_uri": "https://localhost:8080/"
        },
        "outputId": "8d4f9c4e-c1bf-4653-fd52-e123be3689b1"
      },
      "execution_count": 5,
      "outputs": [
        {
          "output_type": "stream",
          "name": "stdout",
          "text": [
            "The string is: python\n"
          ]
        }
      ]
    },
    {
      "cell_type": "markdown",
      "source": [
        "4 B. Python program to reverse a tuple."
      ],
      "metadata": {
        "id": "r6T-s2sPZjPl"
      }
    },
    {
      "cell_type": "code",
      "source": [
        "def revtuple(tup1):\n",
        "  revtuple=tup1[::-1]\n",
        "  print(\"The tuple in reverse:\",revtuple)\n",
        "\n",
        "tup1=[1,3,5,7,9]\n",
        "print(\"The original tuple:\",tup1)\n",
        "revtuple(tup1)"
      ],
      "metadata": {
        "id": "hmI4sgrTZq5-",
        "colab": {
          "base_uri": "https://localhost:8080/"
        },
        "outputId": "84449cc2-8ffe-4654-b591-ad81911a475c"
      },
      "execution_count": 6,
      "outputs": [
        {
          "output_type": "stream",
          "name": "stdout",
          "text": [
            "The original tuple: [1, 3, 5, 7, 9]\n",
            "The tuple in reverse: [9, 7, 5, 3, 1]\n"
          ]
        }
      ]
    },
    {
      "cell_type": "markdown",
      "source": [
        "**SETS AND ITS OPERATIONS**"
      ],
      "metadata": {
        "id": "bFtqYjN1dUkq"
      }
    },
    {
      "cell_type": "markdown",
      "source": [
        "5.Python program to check if a set is subset of another set."
      ],
      "metadata": {
        "id": "dsPodK5kdhLK"
      }
    },
    {
      "cell_type": "code",
      "source": [
        "a={1,3,5,6,7}\n",
        "b={1,2,3,4,5}\n",
        "res=(a<=b)\n",
        "if res==True:\n",
        "  print(\"Set a is a subset of set b.\")\n",
        "else:\n",
        "  print(\"Set a is not a subset of set b.\")"
      ],
      "metadata": {
        "id": "tBjm4qcqdx4z",
        "colab": {
          "base_uri": "https://localhost:8080/"
        },
        "outputId": "e82db694-4afe-472a-e493-efbed2d4151f"
      },
      "execution_count": 7,
      "outputs": [
        {
          "output_type": "stream",
          "name": "stdout",
          "text": [
            "Set a is not a subset of set b.\n"
          ]
        }
      ]
    },
    {
      "cell_type": "markdown",
      "source": [
        "**DICTONARIES AND ITS OPERATIONS**"
      ],
      "metadata": {
        "id": "RmaJvaDzfTPZ"
      }
    },
    {
      "cell_type": "markdown",
      "source": [
        "6.Python program to iterate over dictonaries using for loops."
      ],
      "metadata": {
        "id": "XZEpusFhfpAk"
      }
    },
    {
      "cell_type": "code",
      "source": [
        "dt={'Name':'Sarah', 'Age':'23', 'City':'Toronto'}\n",
        "for key, value in dt.items():\n",
        "  print(key,'-',value)"
      ],
      "metadata": {
        "colab": {
          "base_uri": "https://localhost:8080/"
        },
        "id": "-Mwy3F3Rgb_2",
        "outputId": "6f510e64-795e-4ac2-d140-24e8b1f46708"
      },
      "execution_count": null,
      "outputs": [
        {
          "output_type": "stream",
          "name": "stdout",
          "text": [
            "Name - Sarah\n",
            "Age - 23\n",
            "City - Toronto\n"
          ]
        }
      ]
    }
  ]
}